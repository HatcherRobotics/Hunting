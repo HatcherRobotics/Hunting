{
 "cells": [
  {
   "cell_type": "code",
   "execution_count": null,
   "outputs": [],
   "source": [
    "import pandas as pd\n",
    "import numpy as np\n",
    "from scipy import stats\n",
    "from sklearn import model_selection\n",
    "from sklearn.metrics import roc_auc_score\n",
    "from xgboost import XGBClassifier\n",
    "from sklearn import metrics\n",
    "import pickle"
   ],
   "metadata": {
    "collapsed": false
   },
   "id": "81c36d9711f29545"
  },
  {
   "cell_type": "code",
   "execution_count": null,
   "outputs": [],
   "source": [
    "def dataset(filename, window_size, label):\n",
    "    raw_data = pd.read_csv(filename)[::10]\n",
    "    raw_data = np.array(raw_data)\n",
    "    features = pd.DataFrame()\n",
    "    labels = pd.DataFrame()\n",
    "    for i in range(0,raw_data.shape[0]-window_size):\n",
    "        labels.loc[i,'label']=label\n",
    "        seq = raw_data[i:i+window_size]\n",
    "        y = seq[:,0]\n",
    "        z = seq[:,1]\n",
    "        features.loc[i,'MedianAbsoluteDiff_z'] = np.median(np.absolute(np.diff(z)))\n",
    "        features.loc[i,'log_MeanAbsoluteDiff_z'] = np.log(np.median(np.absolute(np.diff(z))))\n",
    "        features.loc[i,'log_MeanAbsoluteDiff_y'] = np.log(np.median(np.absolute(np.diff(y))))\n",
    "        features.loc[i,'MedianAbsoluteDiff_y'] = np.median(np.absolute(np.diff(y)))\n",
    "        features.loc[i,'max_y'] = np.max(y)\n",
    "        features.loc[i,'e_max_z'] = np.exp(np.max(z))\n",
    "        features.loc[i,'e_min_y'] = np.exp(np.min(y))\n",
    "        features.loc[i,'min_z'] = np.min(z)\n",
    "        features.loc[i,'MedianDiff_y'] = np.median(np.diff(y))\n",
    "        features.loc[i,'MedianDiff_z'] = np.median(np.diff(z))\n",
    "        features.loc[i,'e_kurt_y'] = np.exp(stats.kurtosis(y))\n",
    "        features.loc[i,'median_z'] = np.median(z)\n",
    "    return features,labels\n",
    "\n",
    "X140_80,Y140_80 = dataset(\"../dataset/CriticalSpeed140/v80.csv\", 80, 0)\n",
    "X140_130,Y140_130 = dataset(\"../dataset/CriticalSpeed140/v130.csv\", 80, 0)\n",
    "X140_135,Y140_135 = dataset(\"../dataset/CriticalSpeed140/v135.csv\", 80, 0)\n",
    "X140_139,Y140_139 = dataset(\"../dataset/CriticalSpeed140/v139.csv\", 80, 0)\n",
    "X140_140,Y140_140 = dataset(\"../dataset/CriticalSpeed140/v140.csv\", 80, 1)\n",
    "X140_145,Y140_145 = dataset(\"../dataset/CriticalSpeed140/v145.csv\", 80, 1)\n",
    "X140_150,Y140_150 = dataset(\"../dataset/CriticalSpeed140/v150.csv\", 80, 1)\n",
    "X140_200,Y140_200 = dataset(\"../dataset/CriticalSpeed140/v200.csv\", 80, 1)\n",
    "\n",
    "X68_55,Y68_55 = dataset(\"../dataset/CriticalSpeed68/v55.csv\", 80, 0)\n",
    "X68_60,Y68_60 = dataset(\"../dataset/CriticalSpeed68/v60.csv\", 80, 0)\n",
    "X68_67,Y68_67 = dataset(\"../dataset/CriticalSpeed68/v67.csv\", 80, 0)\n",
    "X68_70,Y68_70 = dataset(\"../dataset/CriticalSpeed68/v70.csv\", 80, 1)\n",
    "X68_75,Y68_75 = dataset(\"../dataset/CriticalSpeed68/v75.csv\", 80, 1)\n",
    "X68_80,Y68_80 = dataset(\"../dataset/CriticalSpeed68/v80.csv\", 80, 1)\n",
    "\n",
    "\n",
    "x = pd.concat([X140_80,X140_130,X140_135,X140_139,X140_140,X140_145,X140_150,X140_200,X68_55,X68_60,X68_67,X68_70,X68_75,X68_80],ignore_index=True)\n",
    "y = pd.concat([Y140_80,Y140_130,Y140_135,Y140_139,Y140_140,Y140_145,Y140_150,Y140_200,Y68_55,Y68_60,Y68_67,Y68_70,Y68_75,Y68_80],ignore_index=True)\n",
    "numerical_cols = x.select_dtypes(exclude = 'object').columns\n",
    "x = x[numerical_cols]\n",
    "x = x.fillna(0)\n",
    "x = x.clip(-1e8,1e8)\n",
    "y = y['label'].fillna(0)"
   ],
   "metadata": {
    "collapsed": false
   },
   "id": "initial_id"
  },
  {
   "cell_type": "code",
   "execution_count": null,
   "outputs": [],
   "source": [
    "x_train,x_test,y_train,y_test = model_selection.train_test_split(x,y,random_state=1,test_size=0.2)"
   ],
   "metadata": {
    "collapsed": false
   },
   "id": "87d0dfd0a105a725"
  },
  {
   "cell_type": "code",
   "execution_count": null,
   "outputs": [],
   "source": [
    "xgb = XGBClassifier(random_state=1, use_label_encoder=False)\n",
    "xgb.fit(x_train,y_train)\n",
    "print(\"XGBoost-accuracy-trainSet: \",xgb.score(x_train,y_train))\n",
    "print(\"XGBoost-accuracy-testSet: \",xgb.score(x_test,y_test))\n",
    "y_hat_xgb = xgb.predict(x_test)\n",
    "xgb_roc_auc = roc_auc_score(y_test, xgb.predict(x_test))\n",
    "print (\"XGBoost AUC =  {:.3f}\" % xgb_roc_auc)\n",
    "print(metrics.classification_report(y_test,y_hat_xgb))"
   ],
   "metadata": {
    "collapsed": false
   },
   "id": "74338c44ce8a4284"
  },
  {
   "cell_type": "code",
   "execution_count": null,
   "outputs": [],
   "source": [
    "with open('../weights/xgb.pickle', 'wb') as f:\n",
    "    pickle.dump(xgb, f)"
   ],
   "metadata": {
    "collapsed": false
   },
   "id": "47c9c296c128022e"
  }
 ],
 "metadata": {
  "kernelspec": {
   "display_name": "Python 3",
   "language": "python",
   "name": "python3"
  },
  "language_info": {
   "codemirror_mode": {
    "name": "ipython",
    "version": 2
   },
   "file_extension": ".py",
   "mimetype": "text/x-python",
   "name": "python",
   "nbconvert_exporter": "python",
   "pygments_lexer": "ipython2",
   "version": "2.7.6"
  }
 },
 "nbformat": 4,
 "nbformat_minor": 5
}
